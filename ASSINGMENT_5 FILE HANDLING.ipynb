{
 "cells": [
  {
   "cell_type": "markdown",
   "id": "f270dff2-e35c-478b-999f-5e38fba27753",
   "metadata": {},
   "source": [
    "# Exercise 1: Read a file and display its contents"
   ]
  },
  {
   "cell_type": "code",
   "execution_count": 1,
   "id": "3c248626-9db9-4bbc-88a8-dc360e50bc20",
   "metadata": {},
   "outputs": [
    {
     "name": "stdout",
     "output_type": "stream",
     "text": [
      "MY NAME IS MIHAMMED NABEEL\n",
      "\n"
     ]
    }
   ],
   "source": [
    "def read_file():\n",
    "    file_path = r\"C:\\Users\\HP\\Downloads\\SAMPLE.txt\"  # Using raw string (r) to avoid escape issues\n",
    "    try:\n",
    "        with open(file_path, 'r') as file:\n",
    "            contents = file.read()\n",
    "            print(contents)\n",
    "    except FileNotFoundError:\n",
    "        print(f\"The file {file_path} was not found.\")\n",
    "    except Exception as e:\n",
    "        print(f\"An error occurred: {e}\")\n",
    "\n",
    "read_file()"
   ]
  },
  {
   "cell_type": "markdown",
   "id": "3a9fec68-56e8-429e-88cf-b14abe0004b7",
   "metadata": {},
   "source": [
    "# Exercise 2: Copy SAMPLE.txt to Another File"
   ]
  },
  {
   "cell_type": "code",
   "execution_count": 2,
   "id": "ff5bdfe1-5038-4f31-8a6f-908886b6520a",
   "metadata": {},
   "outputs": [
    {
     "name": "stdout",
     "output_type": "stream",
     "text": [
      "Copied contents from C:\\Users\\HP\\Downloads\\SAMPLE.txt to C:\\Users\\HP\\Downloads\\COPY_SAMPLE.txt.\n"
     ]
    }
   ],
   "source": [
    "def copy_file():\n",
    "    source = r\"C:\\Users\\HP\\Downloads\\SAMPLE.txt\"\n",
    "    destination = r\"C:\\Users\\HP\\Downloads\\COPY_SAMPLE.txt\"  # New file name\n",
    "    try:\n",
    "        with open(source, 'r') as src:\n",
    "            with open(destination, 'w') as dest:\n",
    "                dest.write(src.read())\n",
    "        print(f\"Copied contents from {source} to {destination}.\")\n",
    "    except FileNotFoundError:\n",
    "        print(f\"The file {source} was not found.\")\n",
    "    except Exception as e:\n",
    "        print(f\"An error occurred: {e}\")\n",
    "\n",
    "copy_file()"
   ]
  },
  {
   "cell_type": "markdown",
   "id": "874f5d10-6036-417c-ba1b-4963100df432",
   "metadata": {},
   "source": [
    "# Exercise 3: Count Words in SAMPLE.txt"
   ]
  },
  {
   "cell_type": "code",
   "execution_count": 3,
   "id": "d9eab138-e244-4571-b7a7-4ae2383a0ba9",
   "metadata": {},
   "outputs": [
    {
     "name": "stdout",
     "output_type": "stream",
     "text": [
      "Total words in C:\\Users\\HP\\Downloads\\SAMPLE.txt: 5\n"
     ]
    }
   ],
   "source": [
    "def count_words():\n",
    "    file_path = r\"C:\\Users\\HP\\Downloads\\SAMPLE.txt\"\n",
    "    try:\n",
    "        with open(file_path, 'r') as file:\n",
    "            words = file.read().split()\n",
    "            print(f\"Total words in {file_path}: {len(words)}\")\n",
    "    except FileNotFoundError:\n",
    "        print(f\"The file {file_path} was not found.\")\n",
    "    except Exception as e:\n",
    "        print(f\"An error occurred: {e}\")\n",
    "\n",
    "count_words()"
   ]
  },
  {
   "cell_type": "markdown",
   "id": "5e6e16a0-fc19-4630-9a19-8c2aa28f7caf",
   "metadata": {},
   "source": [
    "# Exercise 4: Convert String to Integer (with Exception Handling)"
   ]
  },
  {
   "cell_type": "code",
   "execution_count": 5,
   "id": "f2e572a9-4aa0-482a-b610-3545270a01f3",
   "metadata": {},
   "outputs": [
    {
     "name": "stdin",
     "output_type": "stream",
     "text": [
      "Enter a number (as a string):  1\n"
     ]
    },
    {
     "name": "stdout",
     "output_type": "stream",
     "text": [
      "Success! Converted to integer: 1\n"
     ]
    }
   ],
   "source": [
    "def convert_to_integer():\n",
    "    user_input = input(\"Enter a number (as a string): \")\n",
    "    try:\n",
    "        number = int(user_input)\n",
    "        print(f\"Success! Converted to integer: {number}\")\n",
    "    except ValueError:\n",
    "        print(\"Error: Input is not a valid integer.\")\n",
    "\n",
    "# Run the function\n",
    "convert_to_integer()"
   ]
  },
  {
   "cell_type": "markdown",
   "id": "578dd04d-163b-4e0f-8285-02945f0bcd09",
   "metadata": {},
   "source": [
    "# Exercise 5: Check for Negative Numbers in a List (Raise Exception)"
   ]
  },
  {
   "cell_type": "code",
   "execution_count": 8,
   "id": "579e76c8-e9fe-410d-9e1b-42f06da230f2",
   "metadata": {},
   "outputs": [
    {
     "name": "stdin",
     "output_type": "stream",
     "text": [
      "Enter integers separated by spaces:  1234\n"
     ]
    },
    {
     "name": "stdout",
     "output_type": "stream",
     "text": [
      "All numbers are non-negative.\n"
     ]
    }
   ],
   "source": [
    "def check_negative_numbers():\n",
    "    input_str = input(\"Enter integers separated by spaces: \")\n",
    "    try:\n",
    "        numbers = list(map(int, input_str.split()))\n",
    "        for num in numbers:\n",
    "            if num < 0:\n",
    "                raise ValueError(\"Negative numbers are not allowed!\")\n",
    "        print(\"All numbers are non-negative.\")\n",
    "    except ValueError as e:\n",
    "        print(f\"Error: {e}\")\n",
    "\n",
    "# Run the function\n",
    "check_negative_numbers()"
   ]
  },
  {
   "cell_type": "markdown",
   "id": "231e7578-7b86-491d-818c-df91ee357b92",
   "metadata": {},
   "source": [
    "# Exercise 6: Compute Average of Integers (with finally Clause)\n"
   ]
  },
  {
   "cell_type": "code",
   "execution_count": null,
   "id": "1e9108ca-90d2-45e5-a692-dedc1137351b",
   "metadata": {},
   "outputs": [],
   "source": [
    "def compute_average():\n",
    "    input_str = input(\"Enter integers separated by spaces: \")\n",
    "    try:\n",
    "        numbers = list(map(int, input_str.split()))\n",
    "        average = sum(numbers) / len(numbers)\n",
    "        print(f\"Average: {average:.2f}\")\n",
    "    except ValueError:\n",
    "        print(\"Error: Invalid input (must be integers).\")\n",
    "    except ZeroDivisionError:\n",
    "        print(\"Error: Cannot compute average of an empty list.\")\n",
    "    finally:\n",
    "        print(\"Program execution complete.\")\n",
    "\n",
    "# Run the function\n",
    "compute_average()"
   ]
  }
 ],
 "metadata": {
  "kernelspec": {
   "display_name": "Python 3 (ipykernel)",
   "language": "python",
   "name": "python3"
  },
  "language_info": {
   "codemirror_mode": {
    "name": "ipython",
    "version": 3
   },
   "file_extension": ".py",
   "mimetype": "text/x-python",
   "name": "python",
   "nbconvert_exporter": "python",
   "pygments_lexer": "ipython3",
   "version": "3.12.7"
  }
 },
 "nbformat": 4,
 "nbformat_minor": 5
}
